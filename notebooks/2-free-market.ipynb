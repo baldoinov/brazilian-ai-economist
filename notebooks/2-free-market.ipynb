{
 "cells": [
  {
   "cell_type": "code",
   "execution_count": 10,
   "metadata": {},
   "outputs": [
    {
     "name": "stdout",
     "output_type": "stream",
     "text": [
      "The autoreload extension is already loaded. To reload it, use:\n",
      "  %reload_ext autoreload\n"
     ]
    }
   ],
   "source": [
    "%load_ext autoreload\n",
    "%autoreload 2"
   ]
  },
  {
   "cell_type": "code",
   "execution_count": 12,
   "metadata": {},
   "outputs": [],
   "source": [
    "import yaml\n",
    "import numpy as np\n",
    "import matplotlib.pyplot as plt\n",
    "\n",
    "from ray.rllib.algorithms.ppo import PPOConfig\n",
    "\n",
    "from src import foundation\n",
    "from src.foundation.environment_wrapper import RLLibEnvWrapper"
   ]
  },
  {
   "cell_type": "code",
   "execution_count": 13,
   "metadata": {},
   "outputs": [],
   "source": [
    "config_file_path = \"../experiments/free-market/config.yaml\""
   ]
  },
  {
   "cell_type": "code",
   "execution_count": 14,
   "metadata": {},
   "outputs": [],
   "source": [
    "with open(config_file_path, \"r\") as file:\n",
    "    config = yaml.safe_load(file)"
   ]
  },
  {
   "cell_type": "code",
   "execution_count": null,
   "metadata": {},
   "outputs": [],
   "source": []
  },
  {
   "cell_type": "code",
   "execution_count": 18,
   "metadata": {},
   "outputs": [
    {
     "name": "stderr",
     "output_type": "stream",
     "text": [
      "/home/baldoinov/Projetos/brazilian-ai-economist/.venv/lib/python3.10/site-packages/numpy/core/numeric.py:330: RuntimeWarning: invalid value encountered in cast\n",
      "  multiarray.copyto(a, fill_value, casting='unsafe')\n"
     ]
    }
   ],
   "source": [
    "def policy_mapping_fun(i):\n",
    "    if str(i).isdigit() or i == \"a\":\n",
    "        return \"a\"\n",
    "    return \"p\"\n",
    "\n",
    "\n",
    "environment_config = {\n",
    "    \"env_config_dict\": config.get(\"env\"),\n",
    "    \"num_envs_per_worker\": config.get(\"num_envs_per_worker\"),\n",
    "}\n",
    "trainer_config = config.get(\"trainer\")\n",
    "dummy_environment = RLLibEnvWrapper(environment_config)\n",
    "\n",
    "agent_policy = (\n",
    "    None,\n",
    "    dummy_environment.observation_space,\n",
    "    dummy_environment.action_space,\n",
    "    config.get(\"agent_policy\")\n",
    ")\n",
    "\n",
    "planner_policy = (\n",
    "    None,\n",
    "    dummy_environment.observation_space_pl,\n",
    "    dummy_environment.action_space_pl,\n",
    "    config.get(\"planner_policy\"),\n",
    ")\n",
    "\n",
    "policies = {\"a\": agent_policy, \"p\": planner_policy}\n",
    "if config[\"general\"][\"train_planner\"]:\n",
    "        policies_to_train = [\"a\", \"p\"]\n",
    "else:\n",
    "    policies_to_train = [\"a\"]\n",
    "\n",
    "\n",
    "trainer_config.update(\n",
    "    {\n",
    "        \"env_config\": environment_config,\n",
    "        \"seed\": 1,\n",
    "        \"multiagent\": {\n",
    "            \"policies\": policies,\n",
    "            \"policies_to_train\": policies_to_train,\n",
    "            \"policy_mapping_fn\": policy_mapping_fun,\n",
    "        },\n",
    "        \"metrics_smoothing_episodes\": trainer_config.get(\"num_workers\")\n",
    "        * trainer_config.get(\"num_envs_per_worker\"),\n",
    "    }\n",
    ")"
   ]
  },
  {
   "cell_type": "code",
   "execution_count": null,
   "metadata": {},
   "outputs": [],
   "source": []
  }
 ],
 "metadata": {
  "kernelspec": {
   "display_name": ".venv",
   "language": "python",
   "name": "python3"
  },
  "language_info": {
   "codemirror_mode": {
    "name": "ipython",
    "version": 3
   },
   "file_extension": ".py",
   "mimetype": "text/x-python",
   "name": "python",
   "nbconvert_exporter": "python",
   "pygments_lexer": "ipython3",
   "version": "3.10.12"
  }
 },
 "nbformat": 4,
 "nbformat_minor": 2
}
